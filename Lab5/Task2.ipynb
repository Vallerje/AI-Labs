{
  "cells": [
    {
      "cell_type": "code",
      "execution_count": 2,
      "metadata": {
        "id": "PzBfdnzEAz8e"
      },
      "outputs": [],
      "source": [
        "import pyspark"
      ]
    },
    {
      "cell_type": "code",
      "execution_count": 3,
      "metadata": {
        "id": "q1dmksgkB8fY"
      },
      "outputs": [],
      "source": [
        "from pyspark.sql import SparkSession"
      ]
    },
    {
      "cell_type": "code",
      "execution_count": 4,
      "metadata": {
        "colab": {
          "base_uri": "https://localhost:8080/",
          "height": 219
        },
        "id": "d1OKGQT5Bbfl",
        "outputId": "4199e3a5-29f0-4968-ae26-e93c52fd9a91"
      },
      "outputs": [
        {
          "name": "stderr",
          "output_type": "stream",
          "text": [
            "Setting default log level to \"WARN\".\n",
            "To adjust logging level use sc.setLogLevel(newLevel). For SparkR, use setLogLevel(newLevel).\n",
            "25/03/10 10:44:08 WARN NativeCodeLoader: Unable to load native-hadoop library for your platform... using builtin-java classes where applicable\n",
            "25/03/10 10:44:09 WARN Utils: Service 'SparkUI' could not bind on port 4040. Attempting port 4041.\n"
          ]
        },
        {
          "data": {
            "text/html": [
              "\n",
              "            <div>\n",
              "                <p><b>SparkSession - in-memory</b></p>\n",
              "                \n",
              "        <div>\n",
              "            <p><b>SparkContext</b></p>\n",
              "\n",
              "            <p><a href=\"http://localhost:4041\">Spark UI</a></p>\n",
              "\n",
              "            <dl>\n",
              "              <dt>Version</dt>\n",
              "                <dd><code>v3.5.5</code></dd>\n",
              "              <dt>Master</dt>\n",
              "                <dd><code>local[*]</code></dd>\n",
              "              <dt>AppName</dt>\n",
              "                <dd><code>Titanic Data</code></dd>\n",
              "            </dl>\n",
              "        </div>\n",
              "        \n",
              "            </div>\n",
              "        "
            ],
            "text/plain": [
              "<pyspark.sql.session.SparkSession at 0x10c03e120>"
            ]
          },
          "execution_count": 4,
          "metadata": {},
          "output_type": "execute_result"
        }
      ],
      "source": [
        "spark = SparkSession \\\n",
        "    .builder \\\n",
        "    .appName(\"Titanic Data\") \\\n",
        "    .master(\"local[*]\") \\\n",
        "    .config(\"spark.driver.host\", \"localhost\") \\\n",
        "    .config(\"spark.driver.bindAddress\", \"127.0.0.1\") \\\n",
        "    .config(\"spark.sql.warehouse.dir\", \"file:///tmp/spark-warehouse\") \\\n",
        "    .config(\"spark.driver.extraJavaOptions\", \"-Djava.security.manager=allow\") \\\n",
        "    .getOrCreate()\n",
        "\n",
        "spark"
      ]
    },
    {
      "cell_type": "code",
      "execution_count": 5,
      "metadata": {
        "colab": {
          "base_uri": "https://localhost:8080/"
        },
        "id": "vFkZVxSWChxM",
        "outputId": "540ff2b8-c78b-404b-b487-0de66c9a861c"
      },
      "outputs": [
        {
          "name": "stdout",
          "output_type": "stream",
          "text": [
            "+-----------+--------+------+--------------------+------+---+-----+-----+----------------+-------+-----+--------+\n",
            "|PassengerId|Survived|Pclass|                Name|   Sex|Age|SibSp|Parch|          Ticket|   Fare|Cabin|Embarked|\n",
            "+-----------+--------+------+--------------------+------+---+-----+-----+----------------+-------+-----+--------+\n",
            "|          1|       0|     3|Braund, Mr. Owen ...|  male| 22|    1|    0|       A/5 21171|   7.25| NULL|       S|\n",
            "|          2|       1|     1|Cumings, Mrs. Joh...|female| 38|    1|    0|        PC 17599|71.2833|  C85|       C|\n",
            "|          3|       1|     3|Heikkinen, Miss. ...|female| 26|    0|    0|STON/O2. 3101282|  7.925| NULL|       S|\n",
            "|          4|       1|     1|Futrelle, Mrs. Ja...|female| 35|    1|    0|          113803|   53.1| C123|       S|\n",
            "|          5|       0|     3|Allen, Mr. Willia...|  male| 35|    0|    0|          373450|   8.05| NULL|       S|\n",
            "+-----------+--------+------+--------------------+------+---+-----+-----+----------------+-------+-----+--------+\n",
            "only showing top 5 rows\n",
            "\n"
          ]
        }
      ],
      "source": [
        "df = (spark.read\n",
        "      .format(\"csv\")\n",
        "      .option(\"header\", \"true\")\n",
        "      .load(\"Data/titanic/train.csv\")\n",
        "      )\n",
        "\n",
        "df.show(5)"
      ]
    },
    {
      "cell_type": "code",
      "execution_count": 6,
      "metadata": {
        "id": "En-HJGEdDkC4"
      },
      "outputs": [],
      "source": [
        "from pyspark.sql import functions as F\n",
        "from pyspark.sql import types as T\n",
        "\n",
        "\n",
        "from pyspark.ml.feature import StringIndexer, OneHotEncoder, VectorAssembler\n",
        "\n",
        "from pyspark.ml.classification import RandomForestClassifier\n",
        "\n",
        "from pyspark.ml import Pipeline"
      ]
    },
    {
      "cell_type": "code",
      "execution_count": 7,
      "metadata": {
        "colab": {
          "base_uri": "https://localhost:8080/"
        },
        "id": "9UoaL2QfSpPD",
        "outputId": "5d3fea68-1bac-45b7-8669-2cc0e9b76465"
      },
      "outputs": [
        {
          "name": "stdout",
          "output_type": "stream",
          "text": [
            "Number of train samples: 703\n",
            "Number of test samples: 188\n"
          ]
        }
      ],
      "source": [
        "(train_df, test_df) = df.randomSplit([0.8, 0.2], 11)\n",
        "print('Number of train samples: ' + str(train_df.count()))\n",
        "print('Number of test samples: ' + str(test_df.count()))"
      ]
    },
    {
      "cell_type": "code",
      "execution_count": 8,
      "metadata": {
        "id": "lcXK6hAPTFDM"
      },
      "outputs": [],
      "source": [
        "#Label Encoding of categorical variables without any .fit or .transform\n",
        "Sex_indexer = StringIndexer(inputCol=\"Sex\", outputCol=\"Gender\")\n",
        "Embarker_indexer = StringIndexer(inputCol=\"Embarked\", outputCol=\"Boarded\")"
      ]
    },
    {
      "cell_type": "code",
      "execution_count": 9,
      "metadata": {
        "id": "aEi7FzO2TQbd"
      },
      "outputs": [],
      "source": [
        "#Assemble all the features with VectorAssembler\n",
        "inputCols = [\"Pclass\", \"Age\", \"Fare\", \"Gender\", \"Boarded\"]\n",
        "output_cols = \"features\"\n",
        "\n",
        "vector_assembler = VectorAssembler(inputCols=inputCols, outputCol=output_cols)\n",
        "\n",
        "#Modeling using DecisionTreeClassifier\n",
        "dt_model = RandomForestClassifier(featuresCol=\"features\", labelCol=\"Survived\")"
      ]
    },
    {
      "cell_type": "code",
      "execution_count": 10,
      "metadata": {
        "colab": {
          "base_uri": "https://localhost:8080/"
        },
        "id": "bF5ly3OWTTMW",
        "outputId": "1362e3bd-e677-4a4b-8f0f-dfc763f6fd1d"
      },
      "outputs": [
        {
          "name": "stdout",
          "output_type": "stream",
          "text": [
            "root\n",
            " |-- PassengerId: string (nullable = true)\n",
            " |-- Survived: integer (nullable = true)\n",
            " |-- Pclass: integer (nullable = true)\n",
            " |-- Name: string (nullable = true)\n",
            " |-- Sex: string (nullable = true)\n",
            " |-- Age: double (nullable = true)\n",
            " |-- SibSp: string (nullable = true)\n",
            " |-- Parch: string (nullable = true)\n",
            " |-- Ticket: string (nullable = true)\n",
            " |-- Fare: double (nullable = true)\n",
            " |-- Cabin: string (nullable = true)\n",
            " |-- Embarked: string (nullable = true)\n",
            "\n",
            "root\n",
            " |-- PassengerId: string (nullable = true)\n",
            " |-- Survived: string (nullable = true)\n",
            " |-- Pclass: integer (nullable = true)\n",
            " |-- Name: string (nullable = true)\n",
            " |-- Sex: string (nullable = true)\n",
            " |-- Age: double (nullable = true)\n",
            " |-- SibSp: string (nullable = true)\n",
            " |-- Parch: string (nullable = true)\n",
            " |-- Ticket: string (nullable = true)\n",
            " |-- Fare: double (nullable = true)\n",
            " |-- Cabin: string (nullable = true)\n",
            " |-- Embarked: string (nullable = true)\n",
            "\n"
          ]
        }
      ],
      "source": [
        "from pyspark.sql.functions import col\n",
        "\n",
        "train_df = train_df.withColumn(\"Pclass\", col(\"Pclass\").cast(\"integer\"))\n",
        "train_df = train_df.withColumn(\"Age\", col(\"Age\").cast(\"double\"))\n",
        "train_df = train_df.withColumn(\"Fare\", col(\"Fare\").cast(\"double\"))\n",
        "train_df = train_df.withColumn(\"Survived\", col(\"Survived\").cast(\"integer\"))\n",
        "\n",
        "\n",
        "test_df = test_df.withColumn(\"Pclass\", col(\"Pclass\").cast(\"integer\"))\n",
        "test_df = test_df.withColumn(\"Age\", col(\"Age\").cast(\"double\"))\n",
        "test_df = test_df.withColumn(\"Fare\", col(\"Fare\").cast(\"double\"))\n",
        "\n",
        "train_df = train_df.na.drop()\n",
        "test_df = test_df.na.drop()\n",
        "\n",
        "train_df.printSchema()\n",
        "test_df.printSchema()"
      ]
    },
    {
      "cell_type": "code",
      "execution_count": 11,
      "metadata": {
        "colab": {
          "base_uri": "https://localhost:8080/"
        },
        "id": "Q6HTtsz_Udds",
        "outputId": "347e851d-e7b5-4e12-aa89-e06bfcf821df"
      },
      "outputs": [
        {
          "name": "stdout",
          "output_type": "stream",
          "text": [
            "+-----------+--------+------+-----------------------------------------+------+----+-----+-----+--------+-------+-----+--------+------+-------+--------------------------+---------------------------------------+-----------------------------------------+----------+\n",
            "|PassengerId|Survived|Pclass|Name                                     |Sex   |Age |SibSp|Parch|Ticket  |Fare   |Cabin|Embarked|Gender|Boarded|features                  |rawPrediction                          |probability                              |prediction|\n",
            "+-----------+--------+------+-----------------------------------------+------+----+-----+-----+--------+-------+-----+--------+------+-------+--------------------------+---------------------------------------+-----------------------------------------+----------+\n",
            "|103        |0       |1     |White, Mr. Richard Frasar                |male  |21.0|0    |1    |35281   |77.2875|D26  |S       |0.0   |0.0    |[1.0,21.0,77.2875,0.0,0.0]|[9.891685977383917,10.108314022616085] |[0.49458429886919586,0.5054157011308043] |1.0       |\n",
            "|11         |1       |3     |Sandstrom, Miss. Marguerite Rut          |female|4.0 |1    |1    |PP 9549 |16.7   |G6   |S       |1.0   |0.0    |[3.0,4.0,16.7,1.0,0.0]    |[0.14963144963144964,19.85036855036855]|[0.007481572481572482,0.9925184275184276]|1.0       |\n",
            "|111        |0       |1     |Porter, Mr. Walter Chamberlain           |male  |47.0|0    |0    |110465  |52.0   |C110 |S       |0.0   |0.0    |[1.0,47.0,52.0,0.0,0.0]   |[17.31350230656768,2.686497693432323]  |[0.8656751153283839,0.13432488467161613] |0.0       |\n",
            "|125        |0       |1     |White, Mr. Percival Wayland              |male  |54.0|0    |1    |35281   |77.2875|D26  |S       |0.0   |0.0    |[1.0,54.0,77.2875,0.0,0.0]|[16.26507662014456,3.734923379855441]  |[0.8132538310072279,0.18674616899277205] |0.0       |\n",
            "|195        |1       |1     |Brown, Mrs. James Joseph (Margaret Tobin)|female|44.0|0    |0    |PC 17610|27.7208|B4   |C       |1.0   |1.0    |[1.0,44.0,27.7208,1.0,1.0]|[3.5405405405405403,16.45945945945946] |[0.17702702702702702,0.822972972972973]  |1.0       |\n",
            "+-----------+--------+------+-----------------------------------------+------+----+-----+-----+--------+-------+-----+--------+------+-------+--------------------------+---------------------------------------+-----------------------------------------+----------+\n",
            "only showing top 5 rows\n",
            "\n"
          ]
        }
      ],
      "source": [
        "pipeline = Pipeline(stages=[Sex_indexer, Embarker_indexer, vector_assembler, dt_model])\n",
        "\n",
        "final_pipeline = pipeline.fit(train_df)\n",
        "\n",
        "test_predictions_from_pipeline = final_pipeline.transform(test_df)\n",
        "test_predictions_from_pipeline.show(5, truncate=False)"
      ]
    }
  ],
  "metadata": {
    "colab": {
      "provenance": []
    },
    "kernelspec": {
      "display_name": ".venv",
      "language": "python",
      "name": "python3"
    },
    "language_info": {
      "codemirror_mode": {
        "name": "ipython",
        "version": 3
      },
      "file_extension": ".py",
      "mimetype": "text/x-python",
      "name": "python",
      "nbconvert_exporter": "python",
      "pygments_lexer": "ipython3",
      "version": "3.13.2"
    }
  },
  "nbformat": 4,
  "nbformat_minor": 0
}
